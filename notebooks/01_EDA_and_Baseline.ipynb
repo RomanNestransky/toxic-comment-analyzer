{
 "cells": [
  {
   "cell_type": "markdown",
   "metadata": {},
   "source": [
    "# Разведочный анализ данных (EDA)\\n",
    "## Датасет: Jigsaw Toxic Comments"
   ]
  },
  {
   "cell_type": "code",
   "execution_count": null,
   "metadata": {},
   "outputs": [],
   "source": [
    "# Импорт библиотек\\n",
    "import pandas as pd\\n",
    "import numpy as np\\n",
    "import matplotlib.pyplot as plt\\n",
    "import seaborn as sns\\n",
    "print(\"Библиотеки загружены!\")\\n\\n",
    "# Загрузка данных (РАСКОММЕНТИРОВАТЬ ПОСЛЕ ДОБАВЛЕНИЯ ДАТАСЕТА!)\\n",
    "# df = pd.read_csv(\"../data/train.csv\")"
   ]
  }
 ],
 "metadata": {
  "kernelspec": {
   "display_name": "Python 3",
   "language": "python",
   "name": "python3"
  },
  "language_info": {
   "name": "python",
   "version": "3.7.12"
  }
 },
 "nbformat": 4,
 "nbformat_minor": 4
}